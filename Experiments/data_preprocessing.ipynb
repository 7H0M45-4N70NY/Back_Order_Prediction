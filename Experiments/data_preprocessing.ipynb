{
 "cells": [
  {
   "cell_type": "code",
   "execution_count": 1,
   "id": "3a06a895",
   "metadata": {},
   "outputs": [],
   "source": [
    "import pandas as pd\n",
    "import numpy as np"
   ]
  },
  {
   "cell_type": "code",
   "execution_count": 89,
   "id": "2c33cf63",
   "metadata": {
    "scrolled": true
   },
   "outputs": [
    {
     "data": {
      "text/plain": [
       "((1687861, 23), (242076, 23))"
      ]
     },
     "execution_count": 89,
     "metadata": {},
     "output_type": "execute_result"
    }
   ],
   "source": [
    "train=pd.read_csv(\"Kaggle_Training_Dataset_v2.csv\")\n",
    "test=pd.read_csv(\"Kaggle_Test_Dataset_v2.csv\")\n",
    "train.shape,test.shape"
   ]
  },
  {
   "cell_type": "code",
   "execution_count": 3,
   "id": "053adf1a",
   "metadata": {},
   "outputs": [],
   "source": [
    "train['lead_time'].skew()\n",
    "train['lead_time']=train['lead_time'].fillna(train['lead_time'].median())"
   ]
  },
  {
   "cell_type": "code",
   "execution_count": 4,
   "id": "57cb0510",
   "metadata": {},
   "outputs": [],
   "source": [
    "train.dropna(axis=0,inplace=True)"
   ]
  },
  {
   "cell_type": "code",
   "execution_count": 5,
   "id": "6da9be43",
   "metadata": {
    "scrolled": false
   },
   "outputs": [
    {
     "data": {
      "text/plain": [
       "sku                  0\n",
       "national_inv         0\n",
       "lead_time            0\n",
       "in_transit_qty       0\n",
       "forecast_3_month     0\n",
       "forecast_6_month     0\n",
       "forecast_9_month     0\n",
       "sales_1_month        0\n",
       "sales_3_month        0\n",
       "sales_6_month        0\n",
       "sales_9_month        0\n",
       "min_bank             0\n",
       "potential_issue      0\n",
       "pieces_past_due      0\n",
       "perf_6_month_avg     0\n",
       "perf_12_month_avg    0\n",
       "local_bo_qty         0\n",
       "deck_risk            0\n",
       "oe_constraint        0\n",
       "ppap_risk            0\n",
       "stop_auto_buy        0\n",
       "rev_stop             0\n",
       "went_on_backorder    0\n",
       "dtype: int64"
      ]
     },
     "execution_count": 5,
     "metadata": {},
     "output_type": "execute_result"
    }
   ],
   "source": [
    "train.isnull().sum()"
   ]
  },
  {
   "cell_type": "code",
   "execution_count": 6,
   "id": "7d185d5b",
   "metadata": {},
   "outputs": [],
   "source": [
    "train.drop(columns=\"sku\",inplace=True)"
   ]
  },
  {
   "cell_type": "code",
   "execution_count": 7,
   "id": "188735d4",
   "metadata": {},
   "outputs": [
    {
     "data": {
      "text/plain": [
       "['potential_issue',\n",
       " 'deck_risk',\n",
       " 'oe_constraint',\n",
       " 'ppap_risk',\n",
       " 'stop_auto_buy',\n",
       " 'rev_stop',\n",
       " 'went_on_backorder']"
      ]
     },
     "execution_count": 7,
     "metadata": {},
     "output_type": "execute_result"
    }
   ],
   "source": [
    "cat_cols=[i for i in train.columns if train[i].dtype==\"object\" ]\n",
    "cat_cols"
   ]
  },
  {
   "cell_type": "code",
   "execution_count": 8,
   "id": "0959a558",
   "metadata": {},
   "outputs": [
    {
     "data": {
      "text/plain": [
       "Index(['national_inv', 'lead_time', 'in_transit_qty', 'forecast_3_month',\n",
       "       'forecast_6_month', 'forecast_9_month', 'sales_1_month',\n",
       "       'sales_3_month', 'sales_6_month', 'sales_9_month', 'min_bank',\n",
       "       'pieces_past_due', 'perf_6_month_avg', 'perf_12_month_avg',\n",
       "       'local_bo_qty'],\n",
       "      dtype='object')"
      ]
     },
     "execution_count": 8,
     "metadata": {},
     "output_type": "execute_result"
    }
   ],
   "source": [
    "num_cols=train.columns[train.dtypes!=\"object\"]\n",
    "num_cols"
   ]
  },
  {
   "cell_type": "code",
   "execution_count": 9,
   "id": "ae905fd9",
   "metadata": {},
   "outputs": [
    {
     "data": {
      "text/plain": [
       "{'forecast_6_month',\n",
       " 'forecast_9_month',\n",
       " 'perf_12_month_avg',\n",
       " 'sales_3_month',\n",
       " 'sales_6_month',\n",
       " 'sales_9_month'}"
      ]
     },
     "execution_count": 9,
     "metadata": {},
     "output_type": "execute_result"
    }
   ],
   "source": [
    "cor_matrix=train[num_cols].corr()\n",
    "cols_corr=set()\n",
    "for i in range(len(cor_matrix.columns)):\n",
    "    for j in range(i):\n",
    "        if cor_matrix.iloc[i,j] > 0.90:\n",
    "            col_name=cor_matrix.columns[i]\n",
    "            cols_corr.add(col_name)\n",
    "cols_corr"
   ]
  },
  {
   "cell_type": "code",
   "execution_count": 12,
   "id": "92bd0a2c",
   "metadata": {},
   "outputs": [],
   "source": [
    "drop_cols=['forecast_6_month','forecast_9_month','perf_12_month_avg','sales_3_month','sales_6_month','sales_9_month','sku']"
   ]
  },
  {
   "cell_type": "code",
   "execution_count": 13,
   "id": "bd6a541a",
   "metadata": {},
   "outputs": [
    {
     "data": {
      "text/plain": [
       "['forecast_6_month',\n",
       " 'forecast_9_month',\n",
       " 'perf_12_month_avg',\n",
       " 'sales_3_month',\n",
       " 'sales_6_month',\n",
       " 'sales_9_month',\n",
       " 'sku']"
      ]
     },
     "execution_count": 13,
     "metadata": {},
     "output_type": "execute_result"
    }
   ],
   "source": [
    "drop_cols"
   ]
  },
  {
   "cell_type": "code",
   "execution_count": 17,
   "id": "87bdb9b3",
   "metadata": {},
   "outputs": [],
   "source": [
    "import warnings\n",
    "warnings.filterwarnings(\"ignore\")"
   ]
  },
  {
   "cell_type": "code",
   "execution_count": 20,
   "id": "8f0b9847",
   "metadata": {},
   "outputs": [
    {
     "name": "stdout",
     "output_type": "stream",
     "text": [
      "['potential_issue', 'deck_risk', 'oe_constraint', 'ppap_risk', 'stop_auto_buy', 'rev_stop', 'went_on_backorder']\n"
     ]
    }
   ],
   "source": [
    "print(cat_cols)"
   ]
  },
  {
   "cell_type": "code",
   "execution_count": 73,
   "id": "0c29240d",
   "metadata": {},
   "outputs": [],
   "source": [
    "cat_cols=['potential_issue', 'deck_risk', 'oe_constraint', 'ppap_risk', 'stop_auto_buy', 'rev_stop']"
   ]
  },
  {
   "cell_type": "code",
   "execution_count": 29,
   "id": "c3146629",
   "metadata": {},
   "outputs": [
    {
     "name": "stdout",
     "output_type": "stream",
     "text": [
      "['national_inv', 'lead_time', 'in_transit_qty', 'forecast_3_month', 'sales_1_month', 'min_bank', 'pieces_past_due', 'perf_6_month_avg', 'local_bo_qty']\n"
     ]
    }
   ],
   "source": [
    "print(list(new.columns[new.dtypes!=\"object\"]))"
   ]
  },
  {
   "cell_type": "code",
   "execution_count": 30,
   "id": "9d02fced",
   "metadata": {},
   "outputs": [],
   "source": [
    "num_cols=['national_inv', 'lead_time', 'in_transit_qty', 'forecast_3_month', 'sales_1_month', 'min_bank', 'pieces_past_due', 'perf_6_month_avg', 'local_bo_qty']"
   ]
  },
  {
   "cell_type": "code",
   "execution_count": 74,
   "id": "ce3318f9",
   "metadata": {},
   "outputs": [],
   "source": [
    "from sklearn.compose import ColumnTransformer\n",
    "from sklearn.impute import SimpleImputer\n",
    "from sklearn.pipeline import Pipeline\n",
    "from sklearn.preprocessing import OrdinalEncoder,StandardScaler\n",
    "\n",
    "\n",
    "num_pipeline=Pipeline(\n",
    "steps=[\n",
    "    ('imputer',SimpleImputer(strategy=\"median\")),\n",
    "    ('scaler',StandardScaler())\n",
    "])"
   ]
  },
  {
   "cell_type": "code",
   "execution_count": 75,
   "id": "56136a72",
   "metadata": {},
   "outputs": [],
   "source": [
    "cat_pipeline = Pipeline(\n",
    "    steps=[\n",
    "        ('imputer', SimpleImputer(strategy=\"most_frequent\")),\n",
    "        ('labelencoder',OrdinalEncoder(categories=[potential_issue,deck_risk,oe_constraint,ppap_risk,stop_auto_buy,rev_stop]))\n",
    "    ]\n",
    ")\n"
   ]
  },
  {
   "cell_type": "code",
   "execution_count": 76,
   "id": "9dd97746",
   "metadata": {},
   "outputs": [],
   "source": [
    "preprocessor=ColumnTransformer([\n",
    "    ('num_pipeline',num_pipeline,num_cols),\n",
    "    ('cat_pipeline',cat_pipeline,cat_cols)\n",
    "])"
   ]
  },
  {
   "cell_type": "code",
   "execution_count": 82,
   "id": "530fd18a",
   "metadata": {},
   "outputs": [
    {
     "data": {
      "text/plain": [
       "Index(['national_inv', 'lead_time', 'in_transit_qty', 'forecast_3_month',\n",
       "       'sales_1_month', 'min_bank', 'potential_issue', 'pieces_past_due',\n",
       "       'perf_6_month_avg', 'local_bo_qty', 'deck_risk', 'oe_constraint',\n",
       "       'ppap_risk', 'stop_auto_buy', 'rev_stop', 'went_on_backorder'],\n",
       "      dtype='object')"
      ]
     },
     "execution_count": 82,
     "metadata": {},
     "output_type": "execute_result"
    }
   ],
   "source": [
    "train.columns"
   ]
  },
  {
   "cell_type": "code",
   "execution_count": 77,
   "id": "4269649b",
   "metadata": {},
   "outputs": [],
   "source": [
    "nes=preprocessor.fit_transform(train)"
   ]
  },
  {
   "cell_type": "code",
   "execution_count": 78,
   "id": "76e6b8d9",
   "metadata": {
    "scrolled": true
   },
   "outputs": [
    {
     "data": {
      "text/plain": [
       "array(['num_pipeline__national_inv', 'num_pipeline__lead_time',\n",
       "       'num_pipeline__in_transit_qty', 'num_pipeline__forecast_3_month',\n",
       "       'num_pipeline__sales_1_month', 'num_pipeline__min_bank',\n",
       "       'num_pipeline__pieces_past_due', 'num_pipeline__perf_6_month_avg',\n",
       "       'num_pipeline__local_bo_qty', 'cat_pipeline__potential_issue',\n",
       "       'cat_pipeline__deck_risk', 'cat_pipeline__oe_constraint',\n",
       "       'cat_pipeline__ppap_risk', 'cat_pipeline__stop_auto_buy',\n",
       "       'cat_pipeline__rev_stop'], dtype=object)"
      ]
     },
     "execution_count": 78,
     "metadata": {},
     "output_type": "execute_result"
    }
   ],
   "source": [
    "preprocessor.get_feature_names_out()"
   ]
  },
  {
   "cell_type": "code",
   "execution_count": 81,
   "id": "bf8f0de0",
   "metadata": {},
   "outputs": [
    {
     "data": {
      "text/plain": [
       "(1586967, 15)"
      ]
     },
     "execution_count": 81,
     "metadata": {},
     "output_type": "execute_result"
    }
   ],
   "source": [
    "nes.shape"
   ]
  },
  {
   "cell_type": "code",
   "execution_count": 59,
   "id": "58e94205",
   "metadata": {},
   "outputs": [],
   "source": [
    "train.dropna(inplace=True)"
   ]
  },
  {
   "cell_type": "code",
   "execution_count": 60,
   "id": "4be9dfb1",
   "metadata": {
    "scrolled": true
   },
   "outputs": [
    {
     "data": {
      "text/plain": [
       "{'potential_issue': ['No', 'Yes'],\n",
       " 'deck_risk': ['No', 'Yes'],\n",
       " 'oe_constraint': ['No', 'Yes'],\n",
       " 'ppap_risk': ['No', 'Yes'],\n",
       " 'stop_auto_buy': ['Yes', 'No'],\n",
       " 'rev_stop': ['No', 'Yes'],\n",
       " 'went_on_backorder': ['No', 'Yes']}"
      ]
     },
     "execution_count": 60,
     "metadata": {},
     "output_type": "execute_result"
    }
   ],
   "source": [
    "cat_dict={}\n",
    "for i in cat_cols:\n",
    "    cat_dict[i]=[i for i in train[i].unique()]\n",
    "cat_dict\n"
   ]
  },
  {
   "cell_type": "code",
   "execution_count": 63,
   "id": "ade48aab",
   "metadata": {
    "scrolled": false
   },
   "outputs": [
    {
     "data": {
      "text/plain": [
       "['potential_issue',\n",
       " 'deck_risk',\n",
       " 'oe_constraint',\n",
       " 'ppap_risk',\n",
       " 'stop_auto_buy',\n",
       " 'rev_stop',\n",
       " 'went_on_backorder']"
      ]
     },
     "execution_count": 63,
     "metadata": {},
     "output_type": "execute_result"
    }
   ],
   "source": [
    "[i for i in cat_dict.keys()]"
   ]
  },
  {
   "cell_type": "code",
   "execution_count": 62,
   "id": "216b4522",
   "metadata": {},
   "outputs": [],
   "source": [
    "potential_issue=['No', 'Yes']\n",
    "deck_risk=['No', 'Yes']\n",
    "oe_constraint=['No', 'Yes']\n",
    "ppap_risk=['No', 'Yes']\n",
    "stop_auto_buy=['Yes', 'No']\n",
    "rev_stop= ['No', 'Yes']\n",
    "#went_on_backorder=['No', 'Yes'])]"
   ]
  },
  {
   "cell_type": "code",
   "execution_count": null,
   "id": "0d714367",
   "metadata": {},
   "outputs": [],
   "source": []
  },
  {
   "cell_type": "code",
   "execution_count": 100,
   "id": "aeda11e1",
   "metadata": {},
   "outputs": [],
   "source": [
    "\n",
    "def preprocess(df):\n",
    "    #train['lead_time']=train['lead_time'].fillna(train['lead_time'].median())\n",
    "    drop_cols=['forecast_6_month','forecast_9_month','perf_12_month_avg','sales_3_month','sales_6_month','sales_9_month','sku']\n",
    "    df.drop(columns=drop_cols,inplace=True)\n",
    "    cat_cols=['potential_issue', 'deck_risk', 'oe_constraint', 'ppap_risk', 'stop_auto_buy', 'rev_stop']\n",
    "    num_cols=['national_inv', 'lead_time', 'in_transit_qty', 'forecast_3_month', 'sales_1_month', 'min_bank', 'pieces_past_due', 'perf_6_month_avg', 'local_bo_qty']\n",
    "    num_pipeline=Pipeline(\n",
    "        steps=[\n",
    "            ('imputer',SimpleImputer(strategy=\"median\")),\n",
    "            ('scaler',StandardScaler())\n",
    "        ])\n",
    "    potential_issue=['No', 'Yes']\n",
    "    deck_risk=['No', 'Yes']\n",
    "    oe_constraint=['No', 'Yes']\n",
    "    ppap_risk=['No', 'Yes']\n",
    "    stop_auto_buy=['Yes', 'No']\n",
    "    rev_stop= ['No', 'Yes']\n",
    "    cat_pipeline = Pipeline(\n",
    "        steps=[\n",
    "            ('imputer', SimpleImputer(strategy=\"most_frequent\")),\n",
    "            ('labelencoder',OrdinalEncoder(categories=[potential_issue,deck_risk,oe_constraint,ppap_risk,stop_auto_buy,rev_stop]))\n",
    "        ]\n",
    "    )\n",
    "    preprocessor=ColumnTransformer([\n",
    "        ('num_pipeline',num_pipeline,num_cols),\n",
    "        ('cat_pipeline',cat_pipeline,cat_cols)\n",
    "    ])\n",
    "    new_df=preprocessor.fit_transform(df)\n",
    "    return pd.DataFrame(new_df,columns=df.columns)\n",
    "\n",
    "\n",
    "    "
   ]
  },
  {
   "cell_type": "code",
   "execution_count": 101,
   "id": "3b10ae35",
   "metadata": {},
   "outputs": [],
   "source": [
    "target='went_on_backorder'"
   ]
  },
  {
   "cell_type": "code",
   "execution_count": 102,
   "id": "9fab5445",
   "metadata": {},
   "outputs": [
    {
     "data": {
      "text/plain": [
       "Index(['sku', 'national_inv', 'lead_time', 'in_transit_qty',\n",
       "       'forecast_3_month', 'forecast_6_month', 'forecast_9_month',\n",
       "       'sales_1_month', 'sales_3_month', 'sales_6_month', 'sales_9_month',\n",
       "       'min_bank', 'potential_issue', 'pieces_past_due', 'perf_6_month_avg',\n",
       "       'perf_12_month_avg', 'local_bo_qty', 'deck_risk', 'oe_constraint',\n",
       "       'ppap_risk', 'stop_auto_buy', 'rev_stop', 'went_on_backorder'],\n",
       "      dtype='object')"
      ]
     },
     "execution_count": 102,
     "metadata": {},
     "output_type": "execute_result"
    }
   ],
   "source": [
    "train.columns"
   ]
  },
  {
   "cell_type": "code",
   "execution_count": 103,
   "id": "fc417ff5",
   "metadata": {},
   "outputs": [
    {
     "data": {
      "text/html": [
       "<div>\n",
       "<style scoped>\n",
       "    .dataframe tbody tr th:only-of-type {\n",
       "        vertical-align: middle;\n",
       "    }\n",
       "\n",
       "    .dataframe tbody tr th {\n",
       "        vertical-align: top;\n",
       "    }\n",
       "\n",
       "    .dataframe thead th {\n",
       "        text-align: right;\n",
       "    }\n",
       "</style>\n",
       "<table border=\"1\" class=\"dataframe\">\n",
       "  <thead>\n",
       "    <tr style=\"text-align: right;\">\n",
       "      <th></th>\n",
       "      <th>national_inv</th>\n",
       "      <th>lead_time</th>\n",
       "      <th>in_transit_qty</th>\n",
       "      <th>forecast_3_month</th>\n",
       "      <th>sales_1_month</th>\n",
       "      <th>min_bank</th>\n",
       "      <th>potential_issue</th>\n",
       "      <th>pieces_past_due</th>\n",
       "      <th>perf_6_month_avg</th>\n",
       "      <th>local_bo_qty</th>\n",
       "      <th>deck_risk</th>\n",
       "      <th>oe_constraint</th>\n",
       "      <th>ppap_risk</th>\n",
       "      <th>stop_auto_buy</th>\n",
       "      <th>rev_stop</th>\n",
       "    </tr>\n",
       "  </thead>\n",
       "  <tbody>\n",
       "    <tr>\n",
       "      <th>0</th>\n",
       "      <td>-0.016752</td>\n",
       "      <td>0.017553</td>\n",
       "      <td>-0.032808</td>\n",
       "      <td>-0.035436</td>\n",
       "      <td>-0.029004</td>\n",
       "      <td>-0.042050</td>\n",
       "      <td>-0.008659</td>\n",
       "      <td>-3.469150</td>\n",
       "      <td>-0.018577</td>\n",
       "      <td>0.0</td>\n",
       "      <td>0.0</td>\n",
       "      <td>0.0</td>\n",
       "      <td>0.0</td>\n",
       "      <td>0.0</td>\n",
       "      <td>0.0</td>\n",
       "    </tr>\n",
       "    <tr>\n",
       "      <th>1</th>\n",
       "      <td>-0.016684</td>\n",
       "      <td>0.163710</td>\n",
       "      <td>-0.032808</td>\n",
       "      <td>-0.035436</td>\n",
       "      <td>-0.029004</td>\n",
       "      <td>-0.042050</td>\n",
       "      <td>-0.008659</td>\n",
       "      <td>0.296052</td>\n",
       "      <td>-0.018577</td>\n",
       "      <td>0.0</td>\n",
       "      <td>0.0</td>\n",
       "      <td>0.0</td>\n",
       "      <td>0.0</td>\n",
       "      <td>0.0</td>\n",
       "      <td>0.0</td>\n",
       "    </tr>\n",
       "    <tr>\n",
       "      <th>2</th>\n",
       "      <td>-0.016684</td>\n",
       "      <td>0.017553</td>\n",
       "      <td>-0.032808</td>\n",
       "      <td>-0.035436</td>\n",
       "      <td>-0.029004</td>\n",
       "      <td>-0.042050</td>\n",
       "      <td>-0.008659</td>\n",
       "      <td>-3.469150</td>\n",
       "      <td>-0.018577</td>\n",
       "      <td>0.0</td>\n",
       "      <td>1.0</td>\n",
       "      <td>0.0</td>\n",
       "      <td>0.0</td>\n",
       "      <td>0.0</td>\n",
       "      <td>0.0</td>\n",
       "    </tr>\n",
       "    <tr>\n",
       "      <th>3</th>\n",
       "      <td>-0.016516</td>\n",
       "      <td>0.017553</td>\n",
       "      <td>-0.032808</td>\n",
       "      <td>-0.035436</td>\n",
       "      <td>-0.029004</td>\n",
       "      <td>-0.041253</td>\n",
       "      <td>-0.008659</td>\n",
       "      <td>0.262538</td>\n",
       "      <td>-0.018577</td>\n",
       "      <td>0.0</td>\n",
       "      <td>0.0</td>\n",
       "      <td>0.0</td>\n",
       "      <td>0.0</td>\n",
       "      <td>0.0</td>\n",
       "      <td>0.0</td>\n",
       "    </tr>\n",
       "    <tr>\n",
       "      <th>4</th>\n",
       "      <td>-0.016482</td>\n",
       "      <td>0.017553</td>\n",
       "      <td>-0.032808</td>\n",
       "      <td>-0.035436</td>\n",
       "      <td>-0.029004</td>\n",
       "      <td>-0.040457</td>\n",
       "      <td>-0.008659</td>\n",
       "      <td>-3.469150</td>\n",
       "      <td>-0.018577</td>\n",
       "      <td>0.0</td>\n",
       "      <td>1.0</td>\n",
       "      <td>0.0</td>\n",
       "      <td>0.0</td>\n",
       "      <td>0.0</td>\n",
       "      <td>0.0</td>\n",
       "    </tr>\n",
       "  </tbody>\n",
       "</table>\n",
       "</div>"
      ],
      "text/plain": [
       "   national_inv  lead_time  in_transit_qty  forecast_3_month  sales_1_month  \\\n",
       "0     -0.016752   0.017553       -0.032808         -0.035436      -0.029004   \n",
       "1     -0.016684   0.163710       -0.032808         -0.035436      -0.029004   \n",
       "2     -0.016684   0.017553       -0.032808         -0.035436      -0.029004   \n",
       "3     -0.016516   0.017553       -0.032808         -0.035436      -0.029004   \n",
       "4     -0.016482   0.017553       -0.032808         -0.035436      -0.029004   \n",
       "\n",
       "   min_bank  potential_issue  pieces_past_due  perf_6_month_avg  local_bo_qty  \\\n",
       "0 -0.042050        -0.008659        -3.469150         -0.018577           0.0   \n",
       "1 -0.042050        -0.008659         0.296052         -0.018577           0.0   \n",
       "2 -0.042050        -0.008659        -3.469150         -0.018577           0.0   \n",
       "3 -0.041253        -0.008659         0.262538         -0.018577           0.0   \n",
       "4 -0.040457        -0.008659        -3.469150         -0.018577           0.0   \n",
       "\n",
       "   deck_risk  oe_constraint  ppap_risk  stop_auto_buy  rev_stop  \n",
       "0        0.0            0.0        0.0            0.0       0.0  \n",
       "1        0.0            0.0        0.0            0.0       0.0  \n",
       "2        1.0            0.0        0.0            0.0       0.0  \n",
       "3        0.0            0.0        0.0            0.0       0.0  \n",
       "4        1.0            0.0        0.0            0.0       0.0  "
      ]
     },
     "execution_count": 103,
     "metadata": {},
     "output_type": "execute_result"
    }
   ],
   "source": [
    "new_train=preprocess(train.drop(columns=target))\n",
    "new_train.head()"
   ]
  },
  {
   "cell_type": "code",
   "execution_count": null,
   "id": "d2271da3",
   "metadata": {},
   "outputs": [],
   "source": []
  }
 ],
 "metadata": {
  "kernelspec": {
   "display_name": "Python 3 (ipykernel)",
   "language": "python",
   "name": "python3"
  },
  "language_info": {
   "codemirror_mode": {
    "name": "ipython",
    "version": 3
   },
   "file_extension": ".py",
   "mimetype": "text/x-python",
   "name": "python",
   "nbconvert_exporter": "python",
   "pygments_lexer": "ipython3",
   "version": "3.10.9"
  }
 },
 "nbformat": 4,
 "nbformat_minor": 5
}
